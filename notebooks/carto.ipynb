{
 "cells": [
  {
   "cell_type": "markdown",
   "id": "8f514891-a83e-46e7-b208-c949e77ad29a",
   "metadata": {},
   "source": [
    "# Cartography"
   ]
  },
  {
   "cell_type": "code",
   "outputs": [],
   "source": [
    "import matplotlib.pyplot as plt\n",
    "import seaborn as sns"
   ],
   "metadata": {
    "collapsed": false
   },
   "id": "61f9326c9ef44c8a"
  },
  {
   "cell_type": "code",
   "outputs": [],
   "source": [
    "data = sns.load_dataset(\"penguins\")"
   ],
   "metadata": {
    "collapsed": false
   },
   "id": "eb595114d7248ecf"
  },
  {
   "cell_type": "code",
   "outputs": [],
   "source": [
    "data"
   ],
   "metadata": {
    "collapsed": false
   },
   "id": "467576d429797925"
  },
  {
   "cell_type": "markdown",
   "source": [],
   "metadata": {
    "collapsed": false
   },
   "id": "ae8d0e4d62351338"
  },
  {
   "cell_type": "raw",
   "source": [],
   "metadata": {
    "collapsed": false
   },
   "id": "7d33590a341a47f4"
  }
 ],
 "metadata": {
  "kernelspec": {
   "display_name": "Python 3 (ipykernel)",
   "language": "python",
   "name": "python3"
  },
  "language_info": {
   "codemirror_mode": {
    "name": "ipython",
    "version": 3
   },
   "file_extension": ".py",
   "mimetype": "text/x-python",
   "name": "python",
   "nbconvert_exporter": "python",
   "pygments_lexer": "ipython3",
   "version": "3.11.6"
  }
 },
 "nbformat": 4,
 "nbformat_minor": 5
}
